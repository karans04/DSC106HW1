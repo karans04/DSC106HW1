{
 "cells": [
  {
   "cell_type": "code",
   "execution_count": 1,
   "metadata": {},
   "outputs": [],
   "source": [
    "import pandas as pd"
   ]
  },
  {
   "cell_type": "code",
   "execution_count": 2,
   "metadata": {},
   "outputs": [],
   "source": [
    "rows = []\n",
    "for i,f in enumerate(open('ucsd_cds_admission_data_2005_to_2018','r')):\n",
    "    if i == 0:\n",
    "        cols = f.replace('\\n','').split(',')\n",
    "    else:\n",
    "        rows.append(f.replace('\\n','').replace('\"','').split(','))\n",
    "        "
   ]
  },
  {
   "cell_type": "code",
   "execution_count": 6,
   "metadata": {},
   "outputs": [],
   "source": [
    "df = pd.DataFrame(rows, columns = cols)\n",
    "df = df.sort_values('year')\n",
    "df.to_csv('admissions_data.csv')"
   ]
  },
  {
   "cell_type": "code",
   "execution_count": 4,
   "metadata": {},
   "outputs": [
    {
     "data": {
      "text/plain": [
       "['year',\n",
       " 'fulltime_men_applied',\n",
       " 'fulltime_women_applied',\n",
       " 'fulltime_men_admitted',\n",
       " 'fulltime_women_admitted',\n",
       " 'fulltime_men_enrolled',\n",
       " 'fulltime_women_enrolled']"
      ]
     },
     "execution_count": 4,
     "metadata": {},
     "output_type": "execute_result"
    }
   ],
   "source": []
  },
  {
   "cell_type": "code",
   "execution_count": 5,
   "metadata": {},
   "outputs": [
    {
     "data": {
      "text/plain": [
       "[['2018', '45636', '52265', '13781', '15821', '3220', '3484'],\n",
       " ['2017', '41583', '46845', '13981', '16231', '2725', '2974'],\n",
       " ['2016', '39779', '44430', '14103', '16170', '2669', '3077'],\n",
       " ['2015', '37009', '41047', '12748', '13761', '2711', '2581'],\n",
       " ['2014', '34618', '38822', '11758', '12837', '2538', '2383'],\n",
       " ['2013', '31992', '35408', '11866', '12966', '2616', '2612'],\n",
       " ['2012', '28758', '32049', '10917', '12046', '2328', '2245'],\n",
       " ['2011', '25097', '28351', '8707', '10269', '1583', '1861'],\n",
       " ['2010', '22332', '25761', '8365', '9991', '1858', '2089'],\n",
       " ['2009', '21725', '25321', '7816', '9863', '1695', '2054'],\n",
       " ['2008', '21590', '25775', '8517', '11200', '1893', '2399'],\n",
       " ['2007', '20566', '24507', '8419', '10759', '1838', '2303'],\n",
       " ['2006', '19838', '23748', '9210', '12135', '2031', '2558'],\n",
       " ['2005', '18147', '22371', '7580', '10311', '1607', '2113']]"
      ]
     },
     "execution_count": 5,
     "metadata": {},
     "output_type": "execute_result"
    }
   ],
   "source": []
  },
  {
   "cell_type": "code",
   "execution_count": null,
   "metadata": {},
   "outputs": [],
   "source": []
  }
 ],
 "metadata": {
  "kernelspec": {
   "display_name": "Python 3",
   "language": "python",
   "name": "python3"
  },
  "language_info": {
   "codemirror_mode": {
    "name": "ipython",
    "version": 3
   },
   "file_extension": ".py",
   "mimetype": "text/x-python",
   "name": "python",
   "nbconvert_exporter": "python",
   "pygments_lexer": "ipython3",
   "version": "3.7.3"
  }
 },
 "nbformat": 4,
 "nbformat_minor": 2
}
